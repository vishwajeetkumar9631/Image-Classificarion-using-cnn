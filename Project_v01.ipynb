{
 "cells": [
  {
   "cell_type": "code",
   "execution_count": 1,
   "id": "20fa3270",
   "metadata": {},
   "outputs": [],
   "source": [
    "import pandas as pd\n",
    "import numpy as np\n",
    "%matplotlib inline \n",
    "import matplotlib as mpl\n",
    "import matplotlib.pyplot as plt\n",
    "import  os "
   ]
  },
  {
   "cell_type": "code",
   "execution_count": 2,
   "id": "029f5bf8",
   "metadata": {},
   "outputs": [],
   "source": [
    "import tensorflow as tf\n",
    "from tensorflow import keras"
   ]
  },
  {
   "cell_type": "code",
   "execution_count": 9,
   "id": "f9033e7f",
   "metadata": {},
   "outputs": [],
   "source": [
    "train_dir=r'C:\\Users\\Vishwajeet kumar\\Desktop\\project_V01\\train'\n",
    "validation_dir=r'C:\\Users\\Vishwajeet kumar\\Desktop\\project_V01\\test'\n",
    "test_dir=r'C:\\Users\\Vishwajeet kumar\\Desktop\\project_V01\\validation'"
   ]
  },
  {
   "cell_type": "markdown",
   "id": "d80d3599",
   "metadata": {},
   "source": [
    "Data preprocessing\n",
    "#Read the picture file \n",
    "#Decode the JPEG content to RGB grid of point \n",
    "#convert these into floating point tensors.\n",
    "#Rescale the pixel values(between 0  and 255) to the [0,1] intervals\n",
    "\n"
   ]
  },
  {
   "cell_type": "code",
   "execution_count": 5,
   "id": "1fbd8f96",
   "metadata": {},
   "outputs": [],
   "source": [
    "from tensorflow.keras.preprocessing.image import ImageDataGenerator"
   ]
  },
  {
   "cell_type": "code",
   "execution_count": 5,
   "id": "3272ba30",
   "metadata": {},
   "outputs": [
    {
     "name": "stdout",
     "output_type": "stream",
     "text": [
      "Found 2000 images belonging to 2 classes.\n"
     ]
    }
   ],
   "source": [
    "# genrating the batches of image genrator\n",
    "train_datagen = ImageDataGenerator(rescale=1./255)\n",
    "test_datagen = ImageDataGenerator(rescale=1./255)\n",
    "\n",
    "train_generator = train_datagen.flow_from_directory(\n",
    "                train_dir,\n",
    "                target_size=(150,150),\n",
    "                batch_size= 20,\n",
    "                class_mode='binary')"
   ]
  },
  {
   "cell_type": "code",
   "execution_count": 6,
   "id": "e2498502",
   "metadata": {},
   "outputs": [
    {
     "name": "stdout",
     "output_type": "stream",
     "text": [
      "Found 1000 images belonging to 2 classes.\n"
     ]
    }
   ],
   "source": [
    "validation_generator = test_datagen.flow_from_directory(\n",
    "                    validation_dir,\n",
    "                    target_size=(150,150),\n",
    "                    batch_size=20,\n",
    "                    class_mode='binary' )"
   ]
  },
  {
   "cell_type": "code",
   "execution_count": 7,
   "id": "1f6c16ea",
   "metadata": {},
   "outputs": [],
   "source": [
    "from tensorflow.keras import layers\n",
    "from tensorflow.keras import models"
   ]
  },
  {
   "cell_type": "code",
   "execution_count": 8,
   "id": "3ecf8e6b",
   "metadata": {},
   "outputs": [],
   "source": [
    "model = models.Sequential() \n",
    "model.add(layers.Conv2D(32,(3,3),activation='relu',\n",
    "                       input_shape=(150,150,3)))\n",
    "model.add(layers.MaxPooling2D((2,2)))\n",
    "\n",
    "model.add(layers.Conv2D(64,(3,3),activation='relu',\n",
    "                       input_shape=(150,150,3)))\n",
    "model.add(layers.MaxPooling2D((2,2)))\n",
    "\n",
    "model.add(layers.Conv2D(128,(3,3),activation='relu',\n",
    "                       input_shape=(150,150,3)))\n",
    "model.add(layers.MaxPooling2D((2,2)))\n",
    "\n",
    "model.add(layers.Conv2D(128,(3,3),activation='relu',\n",
    "                       input_shape=(150,150,3)))\n",
    "model.add(layers.MaxPooling2D((2,2)))\n",
    "\n",
    "model.add(layers.Flatten())\n",
    "model.add(layers.Dense(512, activation='relu'))\n",
    "model.add(layers.Dense(1, activation='sigmoid'))\n"
   ]
  },
  {
   "cell_type": "code",
   "execution_count": 9,
   "id": "88637d51",
   "metadata": {},
   "outputs": [
    {
     "name": "stdout",
     "output_type": "stream",
     "text": [
      "Model: \"sequential\"\n",
      "_________________________________________________________________\n",
      " Layer (type)                Output Shape              Param #   \n",
      "=================================================================\n",
      " conv2d (Conv2D)             (None, 148, 148, 32)      896       \n",
      "                                                                 \n",
      " max_pooling2d (MaxPooling2D  (None, 74, 74, 32)       0         \n",
      " )                                                               \n",
      "                                                                 \n",
      " conv2d_1 (Conv2D)           (None, 72, 72, 64)        18496     \n",
      "                                                                 \n",
      " max_pooling2d_1 (MaxPooling  (None, 36, 36, 64)       0         \n",
      " 2D)                                                             \n",
      "                                                                 \n",
      " conv2d_2 (Conv2D)           (None, 34, 34, 128)       73856     \n",
      "                                                                 \n",
      " max_pooling2d_2 (MaxPooling  (None, 17, 17, 128)      0         \n",
      " 2D)                                                             \n",
      "                                                                 \n",
      " conv2d_3 (Conv2D)           (None, 15, 15, 128)       147584    \n",
      "                                                                 \n",
      " max_pooling2d_3 (MaxPooling  (None, 7, 7, 128)        0         \n",
      " 2D)                                                             \n",
      "                                                                 \n",
      " flatten (Flatten)           (None, 6272)              0         \n",
      "                                                                 \n",
      " dense (Dense)               (None, 512)               3211776   \n",
      "                                                                 \n",
      " dense_1 (Dense)             (None, 1)                 513       \n",
      "                                                                 \n",
      "=================================================================\n",
      "Total params: 3,453,121\n",
      "Trainable params: 3,453,121\n",
      "Non-trainable params: 0\n",
      "_________________________________________________________________\n"
     ]
    }
   ],
   "source": [
    "model.summary()"
   ]
  },
  {
   "cell_type": "code",
   "execution_count": 10,
   "id": "c05aff10",
   "metadata": {},
   "outputs": [
    {
     "name": "stderr",
     "output_type": "stream",
     "text": [
      "C:\\Users\\Vishwajeet kumar\\anaconda3\\lib\\site-packages\\keras\\optimizers\\optimizer_v2\\rmsprop.py:140: UserWarning: The `lr` argument is deprecated, use `learning_rate` instead.\n",
      "  super().__init__(name, **kwargs)\n"
     ]
    }
   ],
   "source": [
    "from tensorflow.keras import optimizers\n",
    "model.compile(loss='binary_crossentropy',\n",
    "             optimizer= optimizers.RMSprop(lr=1e-4),\n",
    "            metrics=['acc'])"
   ]
  },
  {
   "cell_type": "code",
   "execution_count": 11,
   "id": "05d5c5f9",
   "metadata": {},
   "outputs": [
    {
     "name": "stderr",
     "output_type": "stream",
     "text": [
      "C:\\Users\\Vishwajeet kumar\\AppData\\Local\\Temp\\ipykernel_5920\\3915790038.py:1: UserWarning: `Model.fit_generator` is deprecated and will be removed in a future version. Please use `Model.fit`, which supports generators.\n",
      "  history= model.fit_generator(\n"
     ]
    },
    {
     "name": "stdout",
     "output_type": "stream",
     "text": [
      "Epoch 1/20\n",
      "100/100 [==============================] - 269s 3s/step - loss: 0.6903 - acc: 0.5440 - val_loss: 0.6785 - val_acc: 0.5810\n",
      "Epoch 2/20\n",
      "100/100 [==============================] - 293s 3s/step - loss: 0.6590 - acc: 0.6065 - val_loss: 0.6543 - val_acc: 0.6180\n",
      "Epoch 3/20\n",
      "100/100 [==============================] - 251s 3s/step - loss: 0.6114 - acc: 0.6715 - val_loss: 0.6078 - val_acc: 0.6850\n",
      "Epoch 4/20\n",
      "100/100 [==============================] - 306s 3s/step - loss: 0.5656 - acc: 0.7085 - val_loss: 0.5911 - val_acc: 0.6790\n",
      "Epoch 5/20\n",
      "100/100 [==============================] - 278s 3s/step - loss: 0.5339 - acc: 0.7285 - val_loss: 0.6113 - val_acc: 0.6580\n",
      "Epoch 6/20\n",
      "100/100 [==============================] - 306s 3s/step - loss: 0.5030 - acc: 0.7570 - val_loss: 0.5679 - val_acc: 0.7000\n",
      "Epoch 7/20\n",
      "100/100 [==============================] - 395s 4s/step - loss: 0.4829 - acc: 0.7600 - val_loss: 0.5657 - val_acc: 0.7030\n",
      "Epoch 8/20\n",
      "100/100 [==============================] - 358s 4s/step - loss: 0.4500 - acc: 0.7890 - val_loss: 0.5534 - val_acc: 0.7150\n",
      "Epoch 9/20\n",
      "100/100 [==============================] - 337s 3s/step - loss: 0.4258 - acc: 0.8085 - val_loss: 0.6053 - val_acc: 0.6970\n",
      "Epoch 10/20\n",
      "100/100 [==============================] - 307s 3s/step - loss: 0.3996 - acc: 0.8070 - val_loss: 0.5983 - val_acc: 0.7080\n",
      "Epoch 11/20\n",
      "100/100 [==============================] - 298s 3s/step - loss: 0.3714 - acc: 0.8360 - val_loss: 0.6295 - val_acc: 0.7030\n",
      "Epoch 12/20\n",
      "100/100 [==============================] - 313s 3s/step - loss: 0.3412 - acc: 0.8505 - val_loss: 0.6821 - val_acc: 0.6890\n",
      "Epoch 13/20\n",
      "100/100 [==============================] - 297s 3s/step - loss: 0.3200 - acc: 0.8575 - val_loss: 0.5912 - val_acc: 0.7330\n",
      "Epoch 14/20\n",
      "100/100 [==============================] - 318s 3s/step - loss: 0.2926 - acc: 0.8815 - val_loss: 0.6428 - val_acc: 0.6990\n",
      "Epoch 15/20\n",
      "100/100 [==============================] - 314s 3s/step - loss: 0.2751 - acc: 0.8930 - val_loss: 0.5912 - val_acc: 0.7330\n",
      "Epoch 16/20\n",
      "100/100 [==============================] - 317s 3s/step - loss: 0.2420 - acc: 0.9105 - val_loss: 0.7410 - val_acc: 0.6830\n",
      "Epoch 17/20\n",
      "100/100 [==============================] - 251s 2s/step - loss: 0.2200 - acc: 0.9140 - val_loss: 0.6499 - val_acc: 0.7210\n",
      "Epoch 18/20\n",
      "100/100 [==============================] - 233s 2s/step - loss: 0.1975 - acc: 0.9230 - val_loss: 0.6317 - val_acc: 0.7390\n",
      "Epoch 19/20\n",
      "100/100 [==============================] - 244s 2s/step - loss: 0.1800 - acc: 0.9330 - val_loss: 0.6836 - val_acc: 0.7320\n",
      "Epoch 20/20\n",
      "100/100 [==============================] - 231s 2s/step - loss: 0.1615 - acc: 0.9475 - val_loss: 0.6974 - val_acc: 0.7270\n"
     ]
    }
   ],
   "source": [
    "history= model.fit_generator(\n",
    "            train_generator,\n",
    "            steps_per_epoch=100,\n",
    "            epochs=20,\n",
    "            validation_data=validation_generator,\n",
    "            validation_steps= 50)"
   ]
  },
  {
   "cell_type": "code",
   "execution_count": 12,
   "id": "c5335476",
   "metadata": {},
   "outputs": [
    {
     "data": {
      "image/png": "[encoded data removed]",
      "text/plain": [
       "<Figure size 800x500 with 1 Axes>"
      ]
     },
     "metadata": {},
     "output_type": "display_data"
    }
   ],
   "source": [
    "pd.DataFrame(history.history).plot(figsize=(8,5))\n",
    "plt.grid(True)\n",
    "plt.gca().set_ylim(0,1)\n",
    "plt.show()"
   ]
  },
  {
   "cell_type": "code",
   "execution_count": 13,
   "id": "fc2e4fe8",
   "metadata": {},
   "outputs": [],
   "source": [
    "model.save(\"model.h5\")"
   ]
  },
  {
   "cell_type": "markdown",
   "id": "4ab5ca1e",
   "metadata": {},
   "source": [
    "# Data augmentation Preprocessing\n"
   ]
  },
  {
   "cell_type": "code",
   "execution_count": 6,
   "id": "c0415279",
   "metadata": {},
   "outputs": [],
   "source": [
    "train_datagen = ImageDataGenerator(\n",
    "    rescale=1./255,\n",
    "    rotation_range=40,\n",
    "    width_shift_range=0.2,\n",
    "    height_shift_range=0.2,\n",
    "    horizontal_flip=True,\n",
    "    \n",
    "    )\n"
   ]
  },
  {
   "cell_type": "code",
   "execution_count": 7,
   "id": "3c12b2fb",
   "metadata": {},
   "outputs": [],
   "source": [
    "test_datagen = ImageDataGenerator(rescale=1./255)"
   ]
  },
  {
   "cell_type": "code",
   "execution_count": 10,
   "id": "934f63e9",
   "metadata": {},
   "outputs": [
    {
     "name": "stdout",
     "output_type": "stream",
     "text": [
      "Found 2000 images belonging to 2 classes.\n",
      "Found 1000 images belonging to 2 classes.\n"
     ]
    }
   ],
   "source": [
    "train_generator= train_datagen.flow_from_directory(\n",
    "                train_dir,\n",
    "                target_size=(150,150),\n",
    "                batch_size= 32,\n",
    "                class_mode= 'binary')\n",
    "\n",
    "validation_generator= test_datagen.flow_from_directory(\n",
    "    validation_dir,\n",
    "    target_size=(150,150),\n",
    "    batch_size=32,\n",
    "    class_mode='binary')"
   ]
  },
  {
   "cell_type": "markdown",
   "id": "c577db7d",
   "metadata": {},
   "source": [
    "creating artitecture\n"
   ]
  },
  {
   "cell_type": "code",
   "execution_count": 11,
   "id": "bc5c5b82",
   "metadata": {},
   "outputs": [
    {
     "ename": "NameError",
     "evalue": "name 'models' is not defined",
     "output_type": "error",
     "traceback": [
      "\u001b[1;31m---------------------------------------------------------------------------\u001b[0m",
      "\u001b[1;31mNameError\u001b[0m                                 Traceback (most recent call last)",
      "Cell \u001b[1;32mIn[11], line 1\u001b[0m\n\u001b[1;32m----> 1\u001b[0m model\u001b[38;5;241m=\u001b[39m \u001b[43mmodels\u001b[49m\u001b[38;5;241m.\u001b[39mSequential()\n",
      "\u001b[1;31mNameError\u001b[0m: name 'models' is not defined"
     ]
    }
   ],
   "source": [
    "model= models.Sequential()"
   ]
  },
  {
   "cell_type": "code",
   "execution_count": 18,
   "id": "520a5d72",
   "metadata": {},
   "outputs": [],
   "source": [
    "from tensorflow.keras import layers\n",
    "from tensorflow.keras import models\n",
    "from tensorflow.keras import optimizers"
   ]
  },
  {
   "cell_type": "code",
   "execution_count": 19,
   "id": "5a95ae18",
   "metadata": {},
   "outputs": [
    {
     "name": "stderr",
     "output_type": "stream",
     "text": [
      "C:\\Users\\Vishwajeet kumar\\anaconda3\\lib\\site-packages\\keras\\optimizers\\optimizer_v2\\rmsprop.py:140: UserWarning: The `lr` argument is deprecated, use `learning_rate` instead.\n",
      "  super().__init__(name, **kwargs)\n"
     ]
    }
   ],
   "source": [
    "model= models.Sequential()\n",
    "model.add(layers.Conv2D(32,(3,3), activation='relu',\n",
    "                       input_shape=(150,150,3)))\n",
    "model.add(layers.MaxPooling2D((2,2)))\n",
    "model.add(layers.Conv2D(64,(3,3), activation='relu'))\n",
    "model.add(layers.MaxPooling2D((2,2)))\n",
    "model.add(layers.Conv2D(64,(3,3), activation='relu'))\n",
    "model.add(layers.MaxPooling2D((2,2)))\n",
    "model.add(layers.Conv2D(128,(3,3), activation='relu'))\n",
    "model.add(layers.MaxPooling2D((2,2)))\n",
    "model.add(layers.Conv2D(128,(3,3), activation='relu'))\n",
    "model.add(layers.MaxPooling2D((2,2)))\n",
    "model.add(layers.Flatten())\n",
    "model.add(layers.Dropout(0.5))\n",
    "model.add(layers.Dense(512, activation='relu'))\n",
    "model.add(layers.Dense(1,activation='sigmoid'))\n",
    "\n",
    "model.compile(loss='binary_crossentropy',\n",
    "             optimizer= optimizers.RMSprop(lr=1e-4),\n",
    "             metrics=['acc'])"
   ]
  },
  {
   "cell_type": "code",
   "execution_count": 22,
   "id": "c5cb57d4",
   "metadata": {},
   "outputs": [
    {
     "name": "stderr",
     "output_type": "stream",
     "text": [
      "C:\\Users\\Vishwajeet kumar\\AppData\\Local\\Temp\\ipykernel_2572\\1933666326.py:1: UserWarning: `Model.fit_generator` is deprecated and will be removed in a future version. Please use `Model.fit`, which supports generators.\n",
      "  history= model.fit_generator(\n"
     ]
    },
    {
     "name": "stdout",
     "output_type": "stream",
     "text": [
      "Epoch 1/100\n",
      " 63/100 [=================>............] - ETA: 2:01 - loss: 0.6918 - acc: 0.5200WARNING:tensorflow:Your input ran out of data; interrupting training. Make sure that your dataset or generator can generate at least `steps_per_epoch * epochs` batches (in this case, 10000 batches). You may need to use the repeat() function when building your dataset.\n",
      "WARNING:tensorflow:Your input ran out of data; interrupting training. Make sure that your dataset or generator can generate at least `steps_per_epoch * epochs` batches (in this case, 50 batches). You may need to use the repeat() function when building your dataset.\n",
      "100/100 [==============================] - 250s 2s/step - loss: 0.6918 - acc: 0.5200 - val_loss: 0.6917 - val_acc: 0.5000\n"
     ]
    }
   ],
   "source": [
    "history= model.fit_generator(\n",
    "    train_generator,\n",
    "    steps_per_epoch=100,\n",
    "    epochs=100,\n",
    "    validation_data=validation_generator,\n",
    "    validation_steps=50)"
   ]
  },
  {
   "cell_type": "code",
   "execution_count": 23,
   "id": "369748c0",
   "metadata": {},
   "outputs": [],
   "source": [
    "model.save(\"project_cnn.h5\")"
   ]
  },
  {
   "cell_type": "code",
   "execution_count": 24,
   "id": "c29a73d8",
   "metadata": {},
   "outputs": [
    {
     "data": {
      "image/png": "[encoded data removed]",
      "text/plain": [
       "<Figure size 800x500 with 1 Axes>"
      ]
     },
     "metadata": {},
     "output_type": "display_data"
    }
   ],
   "source": [
    "pd.DataFrame(history.history).plot(figsize=(8,5))\n",
    "plt.grid(True)\n",
    "plt.gca().set_ylim(0,1)\n",
    "plt.show()"
   ]
  },
  {
   "cell_type": "code",
   "execution_count": null,
   "id": "4ffc4f8f",
   "metadata": {},
   "outputs": [],
   "source": []
  }
 ],
 "metadata": {
  "kernelspec": {
   "display_name": "Python 3 (ipykernel)",
   "language": "python",
   "name": "python3"
  },
  "language_info": {
   "codemirror_mode": {
    "name": "ipython",
    "version": 3
   },
   "file_extension": ".py",
   "mimetype": "text/x-python",
   "name": "python",
   "nbconvert_exporter": "python",
   "pygments_lexer": "ipython3",
   "version": "3.9.13"
  }
 },
 "nbformat": 4,
 "nbformat_minor": 5
}
